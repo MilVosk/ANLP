{
 "cells": [
  {
   "cell_type": "markdown",
   "metadata": {},
   "source": [
    "# ANLP 2021 - Assignment 2"
   ]
  },
  {
   "cell_type": "markdown",
   "metadata": {},
   "source": [
    "*Milena Voskanyan, 812148*"
   ]
  },
  {
   "cell_type": "markdown",
   "metadata": {},
   "source": [
    "<div class=\"alert alert-block alert-danger\">Due: Monday, December 13, 2021, 23:59pm</div>"
   ]
  },
  {
   "cell_type": "markdown",
   "metadata": {},
   "source": [
    "<div class=\"alert alert-block alert-info\">\n",
    "\n",
    "**NOTE**\n",
    "<br><br>\n",
    "\n",
    "Please first fill in your name and id number at the top of the assignment, and **rename** the assignment file to **yourlastname-anlp-2.ipynb**<br><br>\n",
    "Problems and questions are given in blue boxes like this one. All grey and white boxes must be filled by you (they either require code or a (brief!) discussion). <br><br>\n",
    "Please hand in your assignment by the deadline via Moodle. In case of questions, you can contact the TAs or David via the usual channels.\n",
    "\n",
    "</div>"
   ]
  },
  {
   "cell_type": "markdown",
   "metadata": {},
   "source": [
    "<div class=\"alert alert-block alert-info\">\n",
    "    \n",
    "In this assignment, you will implement a feedforward neural network and train it with backpropagation to classify intent from the provided dataset (<https://github.com/Dark-Sied/Intent_Classification>). For the purpose of understanding the learning process, the whole dataset is used as both training and test data. (What does that mean for your results?)<br><br>\n",
    "\n",
    "You should implement all parts of this exercise using only python + standard libraries + NumPy. (That is, no specialised machine learning libraries are allowed.) Here is a list of NumPy functions that may or may not be useful for this task: <br>\n",
    "`np.array(), np.eye(), np.reshape(), np.ones(), np.zeros(), np.dot(), np.concatenate(), np.maximum(), np.argmax(), np.sum(), np.uniform()`. <br><br>\n",
    "\n",
    "A more comprehensive introduction to NumPy can be found here: <https://sites.engineering.ucsb.edu/~shell/che210d/numpy.pdf> .\n",
    "\n",
    "</div>"
   ]
  },
  {
   "cell_type": "code",
   "execution_count": 1,
   "metadata": {
    "tags": [
     "load-dataset"
    ]
   },
   "outputs": [],
   "source": [
    "# For your convenience, a function for reading in the dataset:\n",
    "import csv\n",
    "import numpy.typing as npt\n",
    "from typing import Tuple, List, Set, Dict\n",
    "\n",
    "def load_dataset(filename: str) -> Tuple[List[str], List[str], Set[str]]:\n",
    "    intent = []\n",
    "    unique_intent = []\n",
    "    sentences = []\n",
    "    with open(filename, \"r\", encoding=\"latin1\") as f:\n",
    "        data = csv.reader(f, delimiter=\",\")\n",
    "        for row in data:\n",
    "            sentences.append(row[0])\n",
    "            intent.append(row[1])\n",
    "    unique_intent = set(intent)\n",
    "    return sentences, intent, unique_intent"
   ]
  },
  {
   "cell_type": "code",
   "execution_count": 2,
   "metadata": {},
   "outputs": [],
   "source": [
    "sentences, intent, unique_intent = load_dataset(\"dataset.csv\")"
   ]
  },
  {
   "cell_type": "markdown",
   "metadata": {},
   "source": [
    "## Problem 1: Bag-of-Words Representation [15pts]"
   ]
  },
  {
   "cell_type": "markdown",
   "metadata": {},
   "source": [
    "<div class=\"alert alert-block alert-info\">\n",
    "\n",
    "The first thing you're being asked to do is to convert the text into a bag-of-words representation matrix where the dimension of the matrix is $V$ x $M$ ($M$: number of examples, $V$: vocabulary size) and the label to a matrix of dimension $K$ x $M$ where $K$ is number of classes.   \n",
    "\n",
    "</div>"
   ]
  },
  {
   "cell_type": "code",
   "execution_count": 3,
   "metadata": {},
   "outputs": [],
   "source": [
    "import numpy as np\n",
    "import re\n",
    "import string\n",
    "\n",
    "tokens = []\n",
    "vocab = []\n",
    "\n",
    "# tokenizing sentences and creating list of lists\n",
    "for i in sentences:\n",
    "    split_word_from_pucnt = re.compile(r\"[\\w']+|[.,!?;]\")\n",
    "    tokens.append(split_word_from_pucnt.findall(i))\n",
    "# flattening the list of lists\n",
    "flat_list = [i for j in tokens for i in j]\n",
    "\n",
    "# getting vocabulary\n",
    "for words in flat_list:\n",
    "    # lowercasing the words so that the same does not repeat in the vocab\n",
    "    lowercased = words.lower()\n",
    "\n",
    "    # appending to a new list only words\n",
    "    if lowercased not in vocab and words not in string.punctuation:\n",
    "        vocab.append(lowercased)\n",
    "    else:\n",
    "        continue\n",
    "#  vocabulary size\n",
    "V = len(vocab)\n",
    "# number of examples/sentences\n",
    "M = len(sentences)\n",
    "# number of classes\n",
    "K = len(unique_intent)"
   ]
  },
  {
   "cell_type": "code",
   "execution_count": 4,
   "metadata": {
    "tags": [
     "input-data-functions"
    ]
   },
   "outputs": [],
   "source": [
    "def bag_of_words_matrix(data: Tuple[List[str], List[str], Set[str]]) -> npt.ArrayLike:\n",
    "    # setting matrix parameters\n",
    "    bow_matrix = np.zeros((V, M))\n",
    "    # enumerating tokens and vocabulary, looping through them to get the index of sentences and words\n",
    "    for ind, sents in enumerate(tokens):\n",
    "        for index, word in enumerate(vocab):\n",
    "            # checking if word is in a sentence\n",
    "            if word in sents:\n",
    "                # if yes, replacing 0 with 1 \n",
    "                bow_matrix[index][ind] = 1\n",
    "\n",
    "    return bow_matrix\n",
    "\n",
    "def labels_matrix(data: Tuple[List[str], List[str], Set[str]]) -> npt.ArrayLike:\n",
    "    labels = np.zeros((K, M))\n",
    "    for index, c in enumerate(unique_intent):\n",
    "        for ind, cl in enumerate(intent):\n",
    "            if c == cl:\n",
    "                labels[index][ind] = 1\n",
    "    \n",
    "    return labels"
   ]
  },
  {
   "cell_type": "markdown",
   "metadata": {},
   "source": [
    "## Problem 2: Activation Functions [10 pts]"
   ]
  },
  {
   "cell_type": "markdown",
   "metadata": {},
   "source": [
    "<div class=\"alert alert-block alert-info\">\n",
    "    \n",
    "For the classification task, the softmax activation function for the output layer with K classes is given by: \n",
    "$softmax(z_i) = \\frac{e^{z_i}}{{\\sum_{j=1}^{K}e^{z_j}}}$ <br>\n",
    "The activation function of the hidden neurons is a non-linear function. We have seen tanh being used in class, but more common these days are for example ReLU or sigmoid, given by: <br>\n",
    "$ReLU(z)=max(0,z)$ <br>\n",
    "$sigmoid(z)=\\frac{1}{1+e^{-z}}$ <br>\n",
    "\n",
    "Implement the softmax, ReLU, and sigmoid activation function in such a way that it accepts NumPy array and matrices. Plot the ReLU and sigmoid functions, as well as their derivatives. Observe the plot and discuss briefly what the advantages and disadvantages of the ReLU and sigmoid activation function might be. \n",
    "\n",
    "</div>"
   ]
  },
  {
   "cell_type": "code",
   "execution_count": 5,
   "metadata": {
    "tags": [
     "activation-functions"
    ]
   },
   "outputs": [],
   "source": [
    "# Implement the functions below here\n",
    "\n",
    "def softmax(z: npt.ArrayLike) -> npt.ArrayLike:\n",
    "    soft = np.exp(z) / np.sum(np.exp(z))\n",
    "    return soft\n",
    "\n",
    "\n",
    "def sigmoid(z: npt.ArrayLike) -> npt.ArrayLike:\n",
    "    sigm = 1 / (1 + np.exp(-z)) \n",
    "    return sigm\n",
    "\n",
    "def relu(z: npt.ArrayLike) -> npt.ArrayLike:\n",
    "    reLU = np.maximum(0, z)\n",
    "    return reLU\n",
    "\n",
    "def sigmoid_prime(z: npt.ArrayLike) -> npt.ArrayLike:\n",
    "    sig = sigmoid(z)\n",
    "    sig_deriv = sig * (1 - sig)\n",
    "    return sig_deriv\n",
    "\n",
    "def relu_prime(z: npt.ArrayLike) -> npt.ArrayLike:\n",
    "    relu_der = np.greater(z, 0).astype(int)\n",
    "    return relu_der"
   ]
  },
  {
   "cell_type": "code",
   "execution_count": 6,
   "metadata": {},
   "outputs": [
    {
     "data": {
      "image/png": "[encoded data removed]",
      "text/plain": [
       "<Figure size 360x360 with 1 Axes>"
      ]
     },
     "metadata": {
      "needs_background": "light"
     },
     "output_type": "display_data"
    },
    {
     "data": {
      "image/png": "[encoded data removed]",
      "text/plain": [
       "<Figure size 360x360 with 1 Axes>"
      ]
     },
     "metadata": {
      "needs_background": "light"
     },
     "output_type": "display_data"
    },
    {
     "data": {
      "image/png": "[encoded data removed]",
      "text/plain": [
       "<Figure size 360x360 with 1 Axes>"
      ]
     },
     "metadata": {
      "needs_background": "light"
     },
     "output_type": "display_data"
    },
    {
     "data": {
      "image/png": "[encoded data removed]",
      "text/plain": [
       "<Figure size 360x360 with 1 Axes>"
      ]
     },
     "metadata": {
      "needs_background": "light"
     },
     "output_type": "display_data"
    },
    {
     "data": {
      "image/png": "[encoded data removed]",
      "text/plain": [
       "<Figure size 360x360 with 1 Axes>"
      ]
     },
     "metadata": {
      "needs_background": "light"
     },
     "output_type": "display_data"
    }
   ],
   "source": [
    "import matplotlib.pyplot as plt\n",
    "\n",
    "x = np.arange(-10., 10., 0.2)\n",
    "\n",
    "plt.rcParams[\"figure.figsize\"] = (5, 5)\n",
    "\n",
    "plt.plot(x, softmax(x))\n",
    "plt.title('Softmax')\n",
    "plt.show()\n",
    "\n",
    "plt.plot(x, sigmoid(x))\n",
    "plt.title('Sigmoid')\n",
    "plt.show()\n",
    "\n",
    "plt.plot(x, relu(x))\n",
    "plt.title('ReLU')\n",
    "plt.show()\n",
    "\n",
    "plt.plot(x, sigmoid_prime(x))\n",
    "plt.title('Sigmoid Derivative')\n",
    "plt.show()\n",
    "\n",
    "plt.plot(x, relu_prime(x))\n",
    "plt.title('ReLU Derivative')\n",
    "plt.show()"
   ]
  },
  {
   "cell_type": "markdown",
   "metadata": {},
   "source": [
    "Sigmoid\n",
    "\n",
    "Advantages:\n",
    "\n",
    "- can be used to activate hidden layers in a neural network as it is nonlinear\n",
    "- gradient-based backpropagation can be used with it because it is differentiable everywhere\n",
    "- can generate probabilities since its output range is from 0 to 1 \n",
    "\n",
    "Disadvantages:\n",
    "\n",
    "- the problem of vanishing gradient may occur\n",
    "- the sum of all classes doesn’t necessarily sum to 1 when being used as the final activation in a classifier\n",
    "\n",
    "\n",
    "ReLU\n",
    "\n",
    "Advantages:\n",
    "\n",
    "- camputationally more efficient to compute\n",
    "- allows backpropogation\n",
    "\n",
    "Disadvantages:\n",
    "\n",
    "- if too many activations are < 0, then most of the units will have zero as their output"
   ]
  },
  {
   "cell_type": "markdown",
   "metadata": {},
   "source": [
    "## Problem 3: Feedforward Neural Network [35 pts]"
   ]
  },
  {
   "cell_type": "markdown",
   "metadata": {},
   "source": [
    "<div class=\"alert alert-block alert-info\">\n",
    "    \n",
    "Now that you have created the input matrix, we can implement our neural network and perform a forward propagation to classify intent. To perform the forward propagation, you should compute $z^{l}$ and pass it through the activation function for each layer, given by: <br><br>\n",
    "$z^{l} = W^{l}a^{l-1} + b^{l}$ <br>\n",
    "$a^{l} = g(z^{l})$ <br>\n",
    "where $W^{l}$ is a weight matrix between layer $l$ and $l+1$, $z^{l}$ is value of the hidden layer at layer $l$ before activation, $a^{l}$ is value of the hidden layer at layer $l$ after activation, and $b^{l}$ is bias term for layer $l$.\n",
    "\n",
    "You should implement the feedforward computation that computes $\\hat{y_{i}}$ for every example $i$. The neural network has 3 layers - an input layer, a hidden layer and an output layer, where the hidden layer has 150 neurons. Don't forget to include the bias term. Use ReLU as the activation function for the hidden layer and softmax for the output layer. For parameters initialization, use random values from a uniform distribution in the range (-1,1). Provide a seed value to the random number generator, to make the results reproducible. The purpose of using this kind of initialisation is to break symmetry and ensure that different neurons can learn different non-linear functions. (Hint: use vectorization methods instead of a for loop for speedup.) <br><br>\n",
    "\n",
    "Use this neural network to predict the intent and calculate the accuracy of the classifier. (Should you be expecting high numbers yet?)\n",
    "\n",
    "</div>"
   ]
  },
  {
   "cell_type": "code",
   "execution_count": 7,
   "metadata": {
    "tags": [
     "ffnn"
    ]
   },
   "outputs": [],
   "source": [
    "# Define the functions specified below\n",
    "\n",
    "def init_model(\n",
    "    input_size: int,\n",
    "    num_classes: int, \n",
    "    seed = 42,\n",
    "    hidden_size = 150\n",
    ") -> Dict[str, npt.ArrayLike]:\n",
    "    \n",
    "    # weight and bias matrix with random numbers\n",
    "    np.random.seed(seed)\n",
    "    \n",
    "    model = {}\n",
    "    model['W1'] = np.random.uniform(-1,1, (hidden_size, input_size))\n",
    "    model['b1'] = np.random.uniform(-1,1, (hidden_size, 1))\n",
    "    model['W2'] = np.random.uniform(-1,1, (num_classes, hidden_size))\n",
    "    model['b2'] = np.random.uniform(-1,1, (num_classes, 1))\n",
    "    return model\n",
    "\n",
    "def forward(model: Dict[str, npt.ArrayLike], X: npt.ArrayLike) -> npt.ArrayLike:\n",
    "    # feedforward calculations\n",
    "    hidden_layer_inputs = np.dot(model['W1'], X) + model['b1']\n",
    "    hidden_layer_outputs = relu(hidden_layer_inputs)\n",
    "    output_layer_inputs = np.dot(model['W2'], hidden_layer_outputs) + model['b2']\n",
    "    output_layer_outputs = softmax(output_layer_inputs)\n",
    "    #print(len(output))\n",
    "    return output_layer_outputs\n",
    "\n",
    "\n",
    "\n",
    "def predict(model: Dict[str, npt.ArrayLike], X: npt.ArrayLike) -> npt.ArrayLike:\n",
    "    # creating the prediction matrix\n",
    "    predicted = np.zeros(((len(model['W2']), (len(sentences)))))\n",
    "    for sentence in range(len(sentences)):\n",
    "        y_hat = np.argmax(X[:,sentence])\n",
    "        predicted[y_hat][sentence] = 1\n",
    "\n",
    "    return predicted \n",
    "\n",
    "# Do not run any other code in this cell"
   ]
  },
  {
   "cell_type": "code",
   "execution_count": 8,
   "metadata": {
    "scrolled": true
   },
   "outputs": [],
   "source": [
    "onehot_labels = labels_matrix((tokens, intent, unique_intent))\n",
    "bow_sent = bag_of_words_matrix(tokens)\n",
    "model = init_model(input_size=len(bow_sent), num_classes=len(onehot_labels))\n",
    "forward_func = forward(model, bow_sent)\n",
    "final = predict(model, forward_func)\n",
    "\n",
    "# ACCURACY\n",
    "def accuracy(predicted, true):\n",
    "    example_count = predicted.shape[1]\n",
    "    correct_count = 0\n",
    "    \n",
    "    for j in range(predicted.shape[1]):\n",
    "        if (np.where(predicted[:,j] == 1)) == (np.where(true[:,j] == 1)):\n",
    "            correct_count = correct_count + 1\n",
    "    return correct_count/example_count"
   ]
  },
  {
   "cell_type": "code",
   "execution_count": 9,
   "metadata": {},
   "outputs": [
    {
     "name": "stdout",
     "output_type": "stream",
     "text": [
      "Accuracy = 0.061096136567834684\n"
     ]
    }
   ],
   "source": [
    "print(\"Accuracy =\", accuracy(final, onehot_labels))"
   ]
  },
  {
   "cell_type": "raw",
   "metadata": {},
   "source": [
    "The accuracy score is very low, which was predctable since the model is based on random weights and biases."
   ]
  },
  {
   "cell_type": "code",
   "execution_count": null,
   "metadata": {},
   "outputs": [],
   "source": []
  }
 ],
 "metadata": {
  "celltoolbar": "Tags",
  "kernelspec": {
   "display_name": "Python 3",
   "language": "python",
   "name": "python3"
  },
  "language_info": {
   "codemirror_mode": {
    "name": "ipython",
    "version": 3
   },
   "file_extension": ".py",
   "mimetype": "text/x-python",
   "name": "python",
   "nbconvert_exporter": "python",
   "pygments_lexer": "ipython3",
   "version": "3.8.5"
  },
  "latex_envs": {
   "LaTeX_envs_menu_present": true,
   "autoclose": false,
   "autocomplete": true,
   "bibliofile": "biblio.bib",
   "cite_by": "apalike",
   "current_citInitial": 1,
   "eqLabelWithNumbers": true,
   "eqNumInitial": 1,
   "hotkeys": {
    "equation": "alt-ctrl-e"
   },
   "labels_anchors": false,
   "latex_user_defs": false,
   "report_style_numbering": false,
   "user_envs_cfg": false
  },
  "toc": {
   "base_numbering": 1,
   "nav_menu": {},
   "number_sections": true,
   "sideBar": true,
   "skip_h1_title": false,
   "title_cell": "Table of Contents",
   "title_sidebar": "Contents",
   "toc_cell": false,
   "toc_position": {},
   "toc_section_display": true,
   "toc_window_display": false
  }
 },
 "nbformat": 4,
 "nbformat_minor": 2
}
